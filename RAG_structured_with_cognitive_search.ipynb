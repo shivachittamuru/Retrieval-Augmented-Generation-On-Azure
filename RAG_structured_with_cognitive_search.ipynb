{
 "cells": [
  {
   "attachments": {},
   "cell_type": "markdown",
   "id": "18002aa6-39a1-4e71-8749-324e2f615f31",
   "metadata": {
    "nteract": {
     "transient": {
      "deleting": false
     }
    }
   },
   "source": [
    "## Introduction\n",
    "\n",
    "Knowledge bases in enterprises are very common in the industry today and can have extensive number of documents in different categories. Retrieving relevant content based on a user query is a challenging task.  Given a query we were able to retrieve information accurately at the document level using methods such as Page Rank developed and made highly accurate especially by Google,  after this point the user has to delve into the document and search for the relevant information.  With recent advances in Foundation Models such as the one developed by Open AI the challenge is alleviated by using “Semantic Search” methods by using encoding information such as “Embeddings” to find the relevant information and then to summarize the content to present to the user in a concise and succinct manner.  \n",
    "\n",
    "This notebook will introduce the Use Case and will walk you through leveraging Azure Cognitive Search to extract relevant documents and leveraging the power of GPT-3 to address relevant part of the document, and provide a summary based on the prompt (instruction given to the model). It aims to demonstrate how to use Azure OpenAI’s GPT-3 capabilities to adapt to your summarization case, and how to set up and evaluate summarization results. The method is customizable to your summarization use case and can be applied to many different datasets. "
   ]
  },
  {
   "attachments": {},
   "cell_type": "markdown",
   "id": "2f2d0025-3952-481b-9615-cfe5ee198f66",
   "metadata": {
    "nteract": {
     "transient": {
      "deleting": false
     }
    }
   },
   "source": [
    "## Use Case\n",
    "\n",
    "This use case consists of three sections:\n",
    "- Document search\n",
    "- Document Zone search\n",
    "- Text summarization\n",
    "\n",
    "Document Search is the process of extracting relevant document based on the query from a corpus of documents.\n",
    "Document Zone search is the process of finding the relevant part of the document extracted from document search.\n",
    "Text summarization is the process of creating summaries from large volumes of data while maintaining significant informational elements and content value. \n",
    "This use case can be useful in helping subject matter experts in finding relevant information from large document corpus.\n",
    "Example: In the drug discovery process, scientists in pharmaceutical industry read a corpus of documents to find specific information related to concepts, experiment results etc. This use case enables them to ask questions from the document corpus and the solution will come back with the succinct answer. Consequently, expediting the drug discovery process.\n",
    " \n",
    "Benefits of the solution:\n",
    "1. Shortens reading time\n",
    "2. Improves the effectiveness of searching for information\n",
    "3. Removes bias from human summarization techniques\n",
    "4. Increases bandwidth for humans to focus on more in-depth analysis \n",
    "\n",
    "\n",
    "The need for document summarization be applied to any subject matter (legal, financial, journalist, medical, academic, etc) that requires long document summarization. The subject matter that this notebook is focusing on is journalistic - we will walk through news articles. If the topic gets more domain specific, fine-tuning of the GPT3-model would work better rather than just using the few-shot or zero-shot example methods.  \n"
   ]
  },
  {
   "attachments": {},
   "cell_type": "markdown",
   "id": "85743c37-40f6-493f-9eaa-e9c4857ba8eb",
   "metadata": {
    "nteract": {
     "transient": {
      "deleting": false
     }
    }
   },
   "source": [
    "## CNN daily mail dataset\n",
    "For this walkthrough, we will be using the CNN/Daily Mail dataset. This is a common dataset used for text summarization and question answering tasks. Human generated abstractive summary bullets were generated from news stories in CNN and Daily Mail websites.\n",
    "\n",
    "\n",
    "## Data Description\n",
    "The relevant schema for our work today consists of:\n",
    "\n",
    "- id: a string containing the heximal formatted SHA1 hash of the URL where the story was retrieved from\n",
    "- article: a string containing the body of the news article\n",
    "- highlights: a string containing the highlight of the article as written by the article author\n"
   ]
  },
  {
   "attachments": {},
   "cell_type": "markdown",
   "id": "d51fdcf4-31f1-4775-950e-2b53c4116e60",
   "metadata": {
    "nteract": {
     "transient": {
      "deleting": false
     }
    }
   },
   "source": [
    "## Import python modules"
   ]
  },
  {
   "cell_type": "code",
   "execution_count": 1,
   "id": "69bd738e",
   "metadata": {},
   "outputs": [],
   "source": [
    "import json\n",
    "import requests\n",
    "from pprint import pprint"
   ]
  },
  {
   "cell_type": "code",
   "execution_count": 5,
   "id": "335c5e8a",
   "metadata": {},
   "outputs": [
    {
     "data": {
      "text/plain": [
       "True"
      ]
     },
     "execution_count": 5,
     "metadata": {},
     "output_type": "execute_result"
    }
   ],
   "source": [
    "import pandas as pd\n",
    "from azure.core.credentials import AzureKeyCredential\n",
    "from azure.search.documents.indexes import SearchIndexClient \n",
    "from azure.search.documents import SearchClient\n",
    "import openai\n",
    "import re\n",
    "import requests\n",
    "import sys\n",
    "import os\n",
    "import numpy as np\n",
    "from openai.embeddings_utils import get_embedding, cosine_similarity\n",
    "#from transformers import GPT2TokenizerFast\n",
    "from dotenv import load_dotenv\n",
    "load_dotenv()"
   ]
  },
  {
   "cell_type": "code",
   "execution_count": 6,
   "id": "bf4cc4c5",
   "metadata": {},
   "outputs": [],
   "source": [
    "API_KEY = os.getenv(\"OPENAI_API_KEY\")\n",
    "assert API_KEY, \"ERROR: Azure OpenAI Key is missing\"\n",
    "openai.api_key = API_KEY\n",
    "\n",
    "RESOURCE_ENDPOINT = os.getenv(\"OPENAI_API_BASE\",\"\").strip()\n",
    "assert RESOURCE_ENDPOINT, \"ERROR: Azure OpenAI Endpoint is missing\"\n",
    "assert \"openai.azure.com\" in RESOURCE_ENDPOINT.lower(), \"ERROR: Azure OpenAI Endpoint should be in the form: \\n\\n\\t<your unique endpoint identifier>.openai.azure.com\"\n",
    "openai.api_base = RESOURCE_ENDPOINT\n",
    "\n",
    "openai.api_type = os.getenv(\"OPENAI_API_TYPE\")\n",
    "openai.api_version = os.getenv(\"OPENAI_API_VERSION\")\n",
    "\n",
    "model=os.getenv(\"DEPLOYMENT_NAME\")\n",
    "assert model, \"ERROR: Deployment_Name is missing\""
   ]
  },
  {
   "cell_type": "code",
   "execution_count": 2,
   "id": "11eff67e",
   "metadata": {},
   "outputs": [],
   "source": [
    "# Define the names for the data source, skillset, index and indexer\n",
    "datasource_name = \"news-ds\"\n",
    "#skillset_name = \"news-skills\"\n",
    "index_name = \"cnn-news-index\"\n",
    "indexer_name = \"cnn-news-indexer\""
   ]
  },
  {
   "cell_type": "code",
   "execution_count": 12,
   "id": "a325dd36",
   "metadata": {},
   "outputs": [],
   "source": [
    "endpoint = os.getenv(\"AZURE_COGNITIVE_SEARCH_ENDPOINT\")\n",
    "headers = {'Content-Type': 'application/json',\n",
    "           'api-key': os.getenv(\"AZURE_COGNITIVE_SEARCH_KEY\")}\n",
    "params = {\n",
    "    'api-version': os.getenv('AZURE_COGNITIVE_SEARCH_API_VERSION')\n",
    "}"
   ]
  },
  {
   "cell_type": "code",
   "execution_count": 4,
   "id": "299af1ed",
   "metadata": {},
   "outputs": [
    {
     "name": "stdout",
     "output_type": "stream",
     "text": [
      "201\n"
     ]
    }
   ],
   "source": [
    "\n",
    "# Create a data source\n",
    "# This data source points to your Azure Storage account.\n",
    "# You should already have a blob container that contains the sample data\n",
    "datasourceConnectionString = os.getenv(\"AZURE_BLOB_STORAGE_CONNECTION_STRING\")\n",
    "datasource_payload = {\n",
    "    \"name\": datasource_name,\n",
    "    \"description\": \"Demo files to demonstrate cognitive search capabilities.\",\n",
    "    \"type\": \"azureblob\",\n",
    "    \"credentials\": {\n",
    "        \"connectionString\": datasourceConnectionString\n",
    "    },\n",
    "    \"container\": {\n",
    "        \"name\": \"news-data\"\n",
    "    }\n",
    "}\n",
    "r = requests.put(endpoint + \"/datasources/\" + datasource_name,\n",
    "                 data=json.dumps(datasource_payload), headers=headers, params=params)\n",
    "print(r.status_code)"
   ]
  },
  {
   "cell_type": "code",
   "execution_count": 7,
   "id": "be13aceb",
   "metadata": {},
   "outputs": [
    {
     "name": "stdout",
     "output_type": "stream",
     "text": [
      "201\n"
     ]
    }
   ],
   "source": [
    "# Create an index\n",
    "# Queries operate over the searchable fields and filterable fields in the index\n",
    "index_payload = {\n",
    "    \"name\": index_name,\n",
    "    \"fields\": [\n",
    "        {\n",
    "            \"name\": \"id\",\n",
    "            \"type\": \"Edm.String\",\n",
    "            \"key\": \"true\",\n",
    "            \"searchable\": \"false\",\n",
    "            \"filterable\": \"false\",\n",
    "            \"facetable\": \"false\",\n",
    "            \"sortable\": \"false\"\n",
    "        },\n",
    "        {\n",
    "            \"name\": \"article\",\n",
    "            \"type\": \"Edm.String\",\n",
    "            \"sortable\": \"false\",\n",
    "            \"searchable\": \"true\",\n",
    "            \"filterable\": \"false\",\n",
    "            \"facetable\": \"false\",\n",
    "            \"analyzer\": \"standard.lucene\"\n",
    "        },\n",
    "        {\n",
    "            \"name\": \"highlights\",\n",
    "            \"type\": \"Collection(Edm.String)\",\n",
    "            \"searchable\": \"true\",\n",
    "            \"sortable\": \"false\",\n",
    "            \"filterable\": \"false\",\n",
    "            \"facetable\": \"false\",\n",
    "            \"analyzer\": \"standard.lucene\"\n",
    "        }\n",
    "    ]\n",
    "}\n",
    "\n",
    "r = requests.put(endpoint + \"/indexes/\" + index_name,\n",
    "                 data=json.dumps(index_payload), headers=headers, params=params)\n",
    "print(r.status_code)"
   ]
  },
  {
   "cell_type": "code",
   "execution_count": 8,
   "id": "aa9bb330",
   "metadata": {},
   "outputs": [
    {
     "name": "stdout",
     "output_type": "stream",
     "text": [
      "201\n"
     ]
    }
   ],
   "source": [
    "indexer_payload = {\n",
    "  \"name\" : indexer_name,\n",
    "  \"dataSourceName\" : datasource_name,\n",
    "  \"targetIndexName\" : index_name,\n",
    "  \"parameters\" : { \n",
    "      \"configuration\" : { \n",
    "          \"parsingMode\" : \"delimitedText\", \"delimitedTextHeaders\" : \"id,article,highlights\" \n",
    "      }\n",
    "  }\n",
    "}\n",
    "\n",
    "\n",
    "\n",
    "r = requests.put(endpoint + \"/indexers/\" + indexer_name,\n",
    "                 data=json.dumps(indexer_payload), headers=headers, params=params)\n",
    "print(r.status_code)"
   ]
  },
  {
   "cell_type": "code",
   "execution_count": 7,
   "id": "d3e245f2-3315-4eb1-80d2-80ea22a241c2",
   "metadata": {
    "gather": {
     "logged": 1675139533977
    },
    "jupyter": {
     "outputs_hidden": false,
     "source_hidden": false
    },
    "nteract": {
     "transient": {
      "deleting": false
     }
    }
   },
   "outputs": [
    {
     "data": {
      "text/html": [
       "<div>\n",
       "<style scoped>\n",
       "    .dataframe tbody tr th:only-of-type {\n",
       "        vertical-align: middle;\n",
       "    }\n",
       "\n",
       "    .dataframe tbody tr th {\n",
       "        vertical-align: top;\n",
       "    }\n",
       "\n",
       "    .dataframe thead th {\n",
       "        text-align: right;\n",
       "    }\n",
       "</style>\n",
       "<table border=\"1\" class=\"dataframe\">\n",
       "  <thead>\n",
       "    <tr style=\"text-align: right;\">\n",
       "      <th></th>\n",
       "      <th>id</th>\n",
       "      <th>article</th>\n",
       "      <th>highlights</th>\n",
       "    </tr>\n",
       "  </thead>\n",
       "  <tbody>\n",
       "    <tr>\n",
       "      <th>0</th>\n",
       "      <td>92c514c913c0bdfe25341af9fd72b29db544099b</td>\n",
       "      <td>Ever noticed how plane seats appear to be gett...</td>\n",
       "      <td>Experts question if  packed out planes are put...</td>\n",
       "    </tr>\n",
       "    <tr>\n",
       "      <th>1</th>\n",
       "      <td>2003841c7dc0e7c5b1a248f9cd536d727f27a45a</td>\n",
       "      <td>A drunk teenage boy had to be rescued by secur...</td>\n",
       "      <td>Drunk teenage boy climbed into lion enclosure ...</td>\n",
       "    </tr>\n",
       "    <tr>\n",
       "      <th>2</th>\n",
       "      <td>91b7d2311527f5c2b63a65ca98d21d9c92485149</td>\n",
       "      <td>Dougie Freedman is on the verge of agreeing a ...</td>\n",
       "      <td>Nottingham Forest are close to extending Dougi...</td>\n",
       "    </tr>\n",
       "    <tr>\n",
       "      <th>3</th>\n",
       "      <td>caabf9cbdf96eb1410295a673e953d304391bfbb</td>\n",
       "      <td>Liverpool target Neto is also wanted by PSG an...</td>\n",
       "      <td>Fiorentina goalkeeper Neto has been linked wit...</td>\n",
       "    </tr>\n",
       "    <tr>\n",
       "      <th>4</th>\n",
       "      <td>3da746a7d9afcaa659088c8366ef6347fe6b53ea</td>\n",
       "      <td>Bruce Jenner will break his silence in a two-h...</td>\n",
       "      <td>Tell-all interview with the reality TV star, 6...</td>\n",
       "    </tr>\n",
       "  </tbody>\n",
       "</table>\n",
       "</div>"
      ],
      "text/plain": [
       "                                         id   \n",
       "0  92c514c913c0bdfe25341af9fd72b29db544099b  \\\n",
       "1  2003841c7dc0e7c5b1a248f9cd536d727f27a45a   \n",
       "2  91b7d2311527f5c2b63a65ca98d21d9c92485149   \n",
       "3  caabf9cbdf96eb1410295a673e953d304391bfbb   \n",
       "4  3da746a7d9afcaa659088c8366ef6347fe6b53ea   \n",
       "\n",
       "                                             article   \n",
       "0  Ever noticed how plane seats appear to be gett...  \\\n",
       "1  A drunk teenage boy had to be rescued by secur...   \n",
       "2  Dougie Freedman is on the verge of agreeing a ...   \n",
       "3  Liverpool target Neto is also wanted by PSG an...   \n",
       "4  Bruce Jenner will break his silence in a two-h...   \n",
       "\n",
       "                                          highlights  \n",
       "0  Experts question if  packed out planes are put...  \n",
       "1  Drunk teenage boy climbed into lion enclosure ...  \n",
       "2  Nottingham Forest are close to extending Dougi...  \n",
       "3  Fiorentina goalkeeper Neto has been linked wit...  \n",
       "4  Tell-all interview with the reality TV star, 6...  "
      ]
     },
     "execution_count": 7,
     "metadata": {},
     "output_type": "execute_result"
    }
   ],
   "source": [
    "# read the CNN dailymail dataset in pandas dataframe\n",
    "df = pd.read_csv('data/cnn_dailymail_data.csv') #path to CNN daily mail dataset\n",
    "df.head()"
   ]
  },
  {
   "attachments": {},
   "cell_type": "markdown",
   "id": "fc09a779-e3cd-485f-ae3a-297491d993b0",
   "metadata": {
    "nteract": {
     "transient": {
      "deleting": false
     }
    }
   },
   "source": [
    "## Section 1: Leveraging Cognitivie search to extract relevant article based on the query "
   ]
  },
  {
   "attachments": {},
   "cell_type": "markdown",
   "id": "4ceb9fb6-ea7a-4679-b43e-4abcc6b2a2cf",
   "metadata": {
    "nteract": {
     "transient": {
      "deleting": false
     }
    }
   },
   "source": [
    "## Creating Cognitive Seach Index using CNN Dailymail dataset\n",
    "<img src=\"../Demo/images/AzureCogSearchIndex.png\" alt=\"Alternative text\" />"
   ]
  },
  {
   "cell_type": "code",
   "execution_count": 16,
   "id": "7ed0f694-b8c2-408f-90a3-3a763cfbd90e",
   "metadata": {
    "gather": {
     "logged": 1675138709934
    },
    "jupyter": {
     "outputs_hidden": false,
     "source_hidden": false
    },
    "nteract": {
     "transient": {
      "deleting": false
     }
    }
   },
   "outputs": [],
   "source": [
    "# Create an SDK client\n",
    "search_client = SearchClient(endpoint=os.getenv(\"AZURE_COGNITIVE_SEARCH_ENDPOINT\"),\n",
    "                      index_name=os.getenv('AZURE_COGNITIVE_SEARCH_INDEX_NAME'),\n",
    "                      api_version=os.getenv('AZURE_COGNITIVE_SEARCH_API_VERSION'),\n",
    "                      credential=AzureKeyCredential(os.getenv(\"AZURE_COGNITIVE_SEARCH_KEY\")))"
   ]
  },
  {
   "cell_type": "code",
   "execution_count": 39,
   "id": "6c3a09cc",
   "metadata": {},
   "outputs": [
    {
     "name": "stdout",
     "output_type": "stream",
     "text": [
      "{'id': '9f467b20eab77fe837f043d1577f75bd325c5d37', 'highlights': 'Shares have performed nearly twice as well under Tories, new figures show .\\r\\nStock market returns averaged 16 per cent per year under Conservatives .\\r\\nReturns hovered around nine per cent under Labour and current Coalition .', 'article': \"Stock market returns have averaged 16 per cent a year under David Cameron's Conservatives party, compared to just under nine per cent under Labour . Shares have performed nearly twice as well under Conservative governments than under Labour over the last 45 years, according to figures published today. Stock market returns have averaged 16 per cent a year under the Tories compared with just under 9 per cent under Labour and just over 9 per cent under the current Coalition. The figures, in an analysis for the Daily Mail by investment company Hargreaves Lansdown, are a further boost for David Cameron and George Osborne ahead of the general election on May 7. Ed Miliband is struggling to win over business men and women as well as investors who are worried about a Left-wing Labour government’s attitudes to enterprise. A survey of FTSE 100 bosses this weekend showed 70 per cent believe a Labour government under Mr Miliband would be a ‘catastrophe’ for the economy. The analysis by Hargreaves Lansdown shows investors – including millions of workers saving for a pension – fare better under the Conservatives. Laith Khalaf, a senior analyst at Hargreaves Lansdown, said: ‘The stock market has performed twice as well under a Conservative government as it has under Labour, according to performance statistics dating back to 1970.’ The analysis shows that companies have also performed better under the Tories with profits up by an average of 11 per cent a year under the Conservatives and 6 per cent under Labour. Writing in the Daily Mail, Mr Khalaf said: ‘Over the last 45 years there have been five Conservative governments, five Labour governments, and the current Coalition. ‘Over that time the UK stock market has returned on average 16 per cent a year under Conservative rule, compared with 9 per cent under Labour. ‘Markets can be capricious beasts in the short term, but on average this trend reflects the growth in UK company profits under the two parties.’ However, he said events on the global stage ‘are far more important to the UK stock market than the next resident of Number 10’. He added: ‘Looking back over the last 45 years, the waxing and waning of the stock market has been driven in large part by overseas influences, and is not commanded from Westminster. This makes sense when you consider how globalised most industries are.’ Experts have warned that a hung parliament could send financial markets into a tailspin and the pound and shares crashing. A survey of FTSE 100 bosses  showed 70 per cent believe a Labour government  would be a ‘catastrophe’ for the economy. The analysis by Hargreaves Lansdown shows investors fare better under the Conservatives . All the major pollsters are predicting that no party will win an overall majority. George Buckley, UK economist at Deutsche Bank, said: ‘The 2015 UK general election is set to be the most unpredictable for nearly a century. ‘Polls suggest that neither of the two major parties may have sufficient support to secure an outright majority. ‘There may be no good outcome for investors.’ A hard-hitting report by BlackRock, the largest fund manager in the world, said ‘a soothing outcome for the markets is hard to imagine’ given Labour’s anti-business policies and Tory plans to hold a referendum on Britain’s membership of the European Union. ‘Labour would be tough on business – and might be perceived as lacking fiscal responsibility,’ the US giant said in the report. ‘A Conservatives-dominated Cabinet would pave the way for an unsettling referendum in 2017 on the UK’s EU membership. ‘Whoever wins – and the result could take some time to emerge – will lead a weak government likely to pass only watered-down legislation.’\", '@search.score': 25.516005, '@search.highlights': None}\n",
      "\n",
      "\n",
      "\n",
      "{'id': '1d024ed4fe59b5ffe57b03a1e0a7c1b89e4ca0cf', 'highlights': 'Paul Murray insists old board are to blame for stock exchange removal .\\r\\nRangers forced to delist from the Alternative Investment Market (AIM)\\r\\nRangers interim chairman insists plans for future will be unaffected .', 'article': 'Rangers interim chairman Paul Murray insisted on Thursday night the actions of previous boardroom regimes were ‘solely’ to blame for the club’s stock exchange removal. The Ibrox outfit will be forced to delist from the Alternative Investment Market (AIM) after being unable to secure a new nominated advisor (Nomad) to meet regulations. Murray insists the new board’s plans for the future will be unaffected and that planned investments will still take place. Rangers interim chairman Paul Murray insists the actions of previous boardroom regimes were ‘solely’ to blame for the club’s stock exchange removal . However, the development has reopened old hostilities, with Sandy Easdale claiming the shareholder group he heads is considering legal action. The former football board chairman also accused Dave King of making ‘misleading’ statements. Trading in Rangers shares was suspended when previous Nomad, WH Ireland, resigned just two days before the March 6 EGM that ousted the old board and handed control to King and his allies. Discussions between incoming directors and a potential Nomad replacement were already underway at that point. It’s understood, however, that they subsequently broke down after the AIM hierarchy indicated a wish to dispense with Rangers altogether, unhappy at the level of turmoil witnessed since its initial listing in December 2012. The club was the subject of more complaints than any other company on the market over the past 12 months. The Ibrox outfit have not disclosed the name of the Nomad with whom they held talks but are adamant the firm was happy to approve chairman-in-waiting King and all current directors as ‘fit and proper’. King and the Three Bears consortium are expected to be among the investors in a new share issue this summer to provide a longer-term financial solution at the club. Rangers now plan to be listed on the ISDX market, which Arsenal currently use, by the end of next month. London firm JP Jenkins will provide an interim service for those seeking to buy or sell a stake in the club. ‘We tried everything within our power to have the suspension lifted but it was clear that we would have to pay a price for years of poor corporate governance and financial mismanagement since the IPO (in 2012),’ said Murray. ‘The delisting is down solely to the actions and conduct of past regimes. ‘You could say the behaviour of previous directors has poisoned the well with AIM but even so we might have expected a little more understanding from certain quarters. However, I must point out that delisting will have no effect on our overall financial strategy. Murray insists the new board’s plans for the future will be unaffected by the stock exchange removal . ‘The investments we expect will still be made and Rangers will be rebuilt on schedule. Be certain that this delisting, which is down entirely to the actions of previous boards, will have no bearing on future investment. ‘It is unfortunate our intended Nomad, who had confirmed to us that they cleared all of the individuals concerned as fit and proper, could not proceed after having conducted due diligence on the company but I want to stress again that this will not hinder our plans.’ King had stated the day before the EGM that he intended to appoint the Nomad he had lined up ‘immediately’ but added the caveat that the firm would have to look ‘under the boot’ at Rangers before accepting the position. The fact none has been appointed led  to an outcry from the Easdale camp, which controls a 20 per cent stake in the club. ‘I can confirm that the Easdale grouping is considering legal action,’ said a spokesman. ‘This cessation of listing is a blow to all serious shareholders and is in direct contradiction to the promises Mr Dave King made in the lead up to the EGM regarding appointment of a nomad.’ Easdale was later asked by Sky Sports News whether he felt King had misled supporters, replying: ‘I think, categorically, we have been misled. Dave said in several interviews that he had a Nomad and felt comfortable that the company would still be listed.’ On the subject of potential legal action, Easdale said he didn’t think the group would ‘be taking Rangers to task’ but could look ‘more on a personal basis, with the individuals who misled the shareholders in thinking shares would still be on AIM’. Fan ownership groups have, however, backed King and the new board. ‘It is clear that some who remain supportive of the previous regime are attempting to portray this issue as being a broken promise by the new board,’ said a spokesman for the Rangers Supporters Trust. ‘We do not adhere to that view and do not believe it stands up to any sensible scrutiny. We are entirely satisfied that the new board has done everything it could to maintain the AIM listing and we are happy that they did not in any way mislead shareholders by stating that they had a Nomad willing to work with them. ‘It was made clear by the new board that any Nomad’s involvement would be subject to due diligence on the company itself. In fact, we are aware that more than one Nomad was willing to clear the current and prospective directors as fit and proper. The only barriers to a continued listing have been the reputational damage done by the complete absence of corporate governance of previous boards and the reluctance of the AIM regulator to allow a new Nomad to take position.’ A statement from Rangers First added: ‘The delisting is simply the result of well-documented failings in corporate governance and management of those who previously controlled the Company. ‘In addition, we note positively that an alternative listing is being sought and that an immediate solution has already been put in place from Tuesday that will allow buying and selling of RIFC PLC shares.’', '@search.score': 21.050732, '@search.highlights': None}\n",
      "\n",
      "\n",
      "\n"
     ]
    }
   ],
   "source": [
    "search_term = \"Stock market news\"\n",
    "count = 2\n",
    "results = search_client.search(search_text=search_term, top=count, include_total_count=True)\n",
    "for result in results:\n",
    "    print(result)\n",
    "    print(\"\\n\\n\")"
   ]
  },
  {
   "cell_type": "code",
   "execution_count": 18,
   "id": "32689db7-4337-42d9-b8f9-4cbd9d98a850",
   "metadata": {
    "gather": {
     "logged": 1675138710195
    },
    "jupyter": {
     "outputs_hidden": false,
     "source_hidden": false
    },
    "nteract": {
     "transient": {
      "deleting": false
     }
    }
   },
   "outputs": [],
   "source": [
    "#Extracting relevant article based on the query. eg: Clinton Democratic Nomination\n",
    "results = search_client.search(search_text=\"Clinton Democratic nomination\", include_total_count=True)\n",
    "document = next(results)['article']"
   ]
  },
  {
   "cell_type": "code",
   "execution_count": 19,
   "id": "3c9681f2-2448-4e6d-8174-5fb5ff61d5db",
   "metadata": {
    "gather": {
     "logged": 1675139624461
    },
    "jupyter": {
     "outputs_hidden": false,
     "source_hidden": false
    },
    "nteract": {
     "transient": {
      "deleting": false
     }
    }
   },
   "outputs": [
    {
     "data": {
      "text/plain": [
       "'Apple founder Steve Jobs\\' widow Laurene has told of her admiration for Democratic White House front-runner Hillary Clinton. Ms Jobs, 51, called former First Lady Hillary a \\'revolutionary\\' woman, and added that it\\'s not just because she\\'s a woman - but \\'the type of woman she is\\'. Speaking to Time 100, Ms Jobs said: \\'Hillary Clinton is not familiar. She is revolutionary. Not radical, but revolutionary: The distinction is crucial. She is one of America’s greatest modern creations. Laurene Jobs, pictured, widow of Apple\\'s Steve, has strongly backed Hillary Clinton for president . Laurene Jobs said that Hillary Clinton, right, has \\'judgment and wisdom\\' based on her public service . \\'Her decades in our public life must not blind us to the fact that she represents new realities and possibilities. Indeed, those same decades have conferred upon her what newness usually lacks: judgment, and even wisdom. \\'It matters, of course, that Hillary is a woman. But what matters more is what kind of woman she is.\\' Mrs Clinton announced her intention to seek the Democratic nomination on Sunday - and set upon the campaign trail with a trip to meet \\'ordinary\\' voters in Iowa. But she was blasted for her \\'staged\\' visit on Tuesday morning to a coffee shop in LeClaire, Iowa. Austin Bird, one of the men pictured sitting at the table with Mrs Clinton, claimed the whole event was orchestrated \\'from beginning to end\\'. STAGED: Clinton sat to talk with three young Iowans at a coffee shop on Tuesday – all of whom were driven to the event by her Iowa campaign\\'s political director . NOT SO ORDINARY: Austin Bird is a Democratic Party insider who chauffeured Vice President Joe Biden around Davenport, Iowa in October during a pre-election campaign trip . Bird told Daily Mail Online that campaign staffer Troy Price called and asked him and two other young people to meet him Tuesday morning at a restaurant in Davenport, a nearby city. Price then drove them to the coffee house to meet Clinton after vetting them for about a half-hour. The three got the lion\\'s share of Mrs. Clinton\\'s time and participated in what breathless news reports described as a \\'roundtable\\'– the first of many in her brief Iowa campaign swing. Bird himself is a frequent participant in Iowa Democratic Party events. He interned with President Obama\\'s 2012 presidential re-election campaign, and was tapped to chauffeur Vice President Joe Biden in October 2014 when he visited Davenport. \\'What happened is, we were just asked to be there by Troy,\\' Bird said Wednesday in a phone interview. \\'We were asked to come to a meeting with Troy, the three of us, at the Village Inn.\\' The other two, he confirmed, were University of Iowa College Democrats president Carter Bell and Planned Parenthood of the Heartland employee Sara Sedlacek. \\'It was supposed to be a strategy meeting,\\' Bird recalled, \\'to get our thoughts about issues. But then all of a sudden he says, \"Hey, we have Secretary Clinton coming in, would you like to go meet her?\"\\' \\'And then we got in a car – Troy\\'s car – and we went up to the coffee house, and we sat at a table and then Hillary just came up and talked with us.\\' Bird said \\'we all were called.\\' \\'I mean, Troy asked us all to do – to go to a meeting with him. And we didn\\'t really know what it was about. I mean, he did. He knew.\\' It\\'s unclear how many Iowans featured in photographs with Clinton that rocketed around the country on Tuesday were planted. \\'The mayor of LeClaire was there, and his wife was there,\\' Bird said, recalling the scene at the coffee shop. Price was executive director of the Iowa Democratic Party until a month ago. Clinton\\'s team tapped him last week to be its political director in Iowa. He did not respond to a request for comment. Bird is a government and community relations coordinator at Genesis Health System in Davenport, Iowa, according to his LinkedIn profile. A coworker at Genesis said Wednesday that Bird is \\'basically a lobbyist in training. That\\'s what he wants to do.\\' Bird disagreed, saying his role was \\'more public relations.\\' He\\'s also an outspoken progressive whose Facebook wall shows he ordered a \\'Hillary For President\\' bumper sticker\\xa022 months ago. \\'Is it 2016 yet?\\' he wrote in May 2013. Clinton\\'s nascent campaign has carefully coordinated her image as a spontaneous, handshaking populist in her first days as a candidate, posing with Pennsylvanians at a gas station and venturing into an Ohio Chipotle restaurant for lunch. When no one recognized the former first lady – she was wearing sunglasses – the campaign leaked information to The New York Times so its reporters could get security-camera footage to prove she had tried to mingle with voters. Scripting supposedly off-the-cuff appearances is common in presidential politics but could hurt Clinton especially hard since her gonzo road-trip journey to America\\'s broad midwest is designed to counter her image as cold, calculating and politically venomous. And planting party insiders in place of typical Iowans won\\'t go over well in the Hawkeye State, where pressing the flesh and collecting caucus votes is a quadrennial full-contact sport. ASTROTURF: Setting up faux events for news cameras is nothing new in politics, but Iowans take presidential contests seriously and could punish Clinton for the deception . THE FIXER: Bird said Troy Prince (left, pictured with VP Joe Biden), who was executive director of the Iowa Democratic Party until he left last month to help Clinton\\'s statewide political effort, recruited him and others to attend the \\'spontaneous\\' coffee meeting . Clinton\\'s campaign has already taken heat for depicting at least three people in her campaign launch video as \\'everyday\\' Americans who were actually partisans with political connections. One was even a former campaign manager for Wendy Davis, the Texas Democrat who mounted a failed bid for Texas governor last year. In LeClaire on Tuesday,\\xa0Bloomberg and other outlets referred to Bird as a \\'student\\' at St. Ambrose University, not as a hospital government-affairs staffer with Democratic party street-cred. He does study at St. Ambrose – part-time. But Bird\\'s ties to the party are deep enough that his Facebook wall includes a photo of him standing in front of Joe Biden\\'s limousine in Davenport. \\'I was driving the Vice President when he was in town in October,\\' Bird noted in a Facebook comment. Biden was not there on official government business, but for a campaign stop in support of Democrat Bruce Braley. \\'The Vice President will attend a grassroots event for Braley for Iowa with Representative David Loebsack,\\' according to White House press guidance for his October 27, 2014 schedule.'"
      ]
     },
     "execution_count": 19,
     "metadata": {},
     "output_type": "execute_result"
    }
   ],
   "source": [
    "document"
   ]
  },
  {
   "cell_type": "code",
   "execution_count": 20,
   "id": "02375dcd-514e-4203-951e-729b3de07570",
   "metadata": {
    "gather": {
     "logged": 1675139635796
    },
    "jupyter": {
     "outputs_hidden": false,
     "source_hidden": false
    },
    "nteract": {
     "transient": {
      "deleting": false
     }
    }
   },
   "outputs": [
    {
     "data": {
      "text/plain": [
       "6675"
      ]
     },
     "execution_count": 20,
     "metadata": {},
     "output_type": "execute_result"
    }
   ],
   "source": [
    "#length of article extracted from Azure Cognitive search\n",
    "len(document) "
   ]
  },
  {
   "attachments": {},
   "cell_type": "markdown",
   "id": "30b4b060-1dca-468c-a1f5-ac1b9e5d4878",
   "metadata": {
    "nteract": {
     "transient": {
      "deleting": false
     }
    }
   },
   "source": [
    "## Section 2: Document Zone Search\n",
    "Document Zone: Azure OpenAI Embedding API\n",
    "Now that we narrowed on a single document from our knowledge base using Azure Cognitive Search- we can dive deeper into the single document to refine our initial query to a more specific section or \"zone\" of the article.\n",
    "\n",
    "To do this, we will utilize the Azure Open AI Embeddings API.\n",
    "\n",
    "## Embeddings Overview\n",
    "An embedding is a special format of data representation that can be easily utilized by machine learning models and algorithms. The embedding is an information dense representation of the semantic meaning of a piece of text. Each embedding is a vector of floating-point numbers, such that the distance between two embeddings in the vector space is correlated with semantic similarity between two inputs in the original format. For example, if two texts are similar, then their vector representations should also be similar.\n",
    "\n",
    "Different Azure OpenAI embedding models are specifically created to be good at a particular task. Similarity embeddings are good at capturing semantic similarity between two or more pieces of text. Text search embeddings help measure long documents are relevant to a short query. Code search embeddings are useful for embedding code snippets and embedding nature language search queries.\n",
    "\n",
    "Embeddings make it easier to do machine learning on large inputs representing words by capturing the semantic similarities in a vector space. Therefore, we can use embeddings to if two text chunks are semantically related or similar, and inherently provide a score to assess similarity.\n",
    "\n",
    "## Cosine Similarity\n",
    "A previously used approach to match similar documents was based on counting maximum number of common words between documents. This is flawed since as the document size increases, the overlap of common words increases even if the topics differ. Therefore cosine similarity is a better approach.\n",
    "\n",
    "Mathematically, cosine similarity measures the cosine of the angle between two vectors projected in a multi-dimensional space. This is beneficial because if two documents are far apart by Euclidean distance because of size, they could still have a smaller angle between them and therefore higher cosine similarity.\n",
    "\n",
    "The Azure OpenAI embeddings rely on cosine similarity to compute similarity between documents and a query."
   ]
  },
  {
   "attachments": {},
   "cell_type": "markdown",
   "id": "1cf78f21-368a-4314-ab59-f5be527e4b08",
   "metadata": {
    "nteract": {
     "transient": {
      "deleting": false
     }
    }
   },
   "source": [
    "## Setting up Azure OpenAI service and using deployed models"
   ]
  },
  {
   "cell_type": "code",
   "execution_count": 21,
   "id": "c1cb38c6",
   "metadata": {
    "gather": {
     "logged": 1675138710894
    }
   },
   "outputs": [],
   "source": [
    "openai.api_type = os.getenv(\"OPENAI_API_TYPE\")\n",
    "openai.api_version = os.getenv(\"OPENAI_API_VERSION\")\n",
    "\n",
    "API_KEY = os.getenv(\"OPENAI_API_KEY\")\n",
    "assert API_KEY, \"ERROR: Azure OpenAI Key is missing\"\n",
    "openai.api_key = API_KEY\n",
    "\n",
    "RESOURCE_ENDPOINT = os.getenv(\"OPENAI_API_BASE\",\"\").strip()\n",
    "assert RESOURCE_ENDPOINT, \"ERROR: Azure OpenAI Endpoint is missing\"\n",
    "assert \"openai.azure.com\" in RESOURCE_ENDPOINT.lower(), \"ERROR: Azure OpenAI Endpoint should be in the form: \\n\\n\\t<your unique endpoint identifier>.openai.azure.com\"\n",
    "openai.api_base = RESOURCE_ENDPOINT\n",
    "\n",
    "TEXT_SEARCH_DOC_EMBEDDING_ENGINE = os.getenv('DOCUMENT_MODEL_NAME') # Model deployment name - mentioned in the above screenshot \n",
    "TEXT_SEARCH_QUERY_EMBEDDING_ENGINE = os.getenv('QUERY_MODEL_NAME') # Model deployment name - mentioned in the above screenshot\n",
    "TEXT_DAVINCI = os.getenv('DEPLOYMENT_NAME') # Model deployment name - mentioned in the above screenshot"
   ]
  },
  {
   "cell_type": "code",
   "execution_count": 22,
   "id": "b043fbb4",
   "metadata": {
    "gather": {
     "logged": 1675138711079
    }
   },
   "outputs": [],
   "source": [
    "#Defining helper functions\n",
    "#Splits text after sentences ending in a period. Combines n sentences per chunk.\n",
    "def splitter(n, s):\n",
    "    pieces = s.split(\". \")\n",
    "    list_out = [\" \".join(pieces[i:i+n]) for i in range(0, len(pieces), n)]\n",
    "    return list_out\n",
    "\n",
    "# Perform light data cleaning (removing redudant whitespace and cleaning up punctuation)\n",
    "def normalize_text(s, sep_token = \" \\n \"):\n",
    "    s = re.sub(r'\\s+',  ' ', s).strip()\n",
    "    s = re.sub(r\". ,\",\"\",s)\n",
    "    # remove all instances of multiple spaces\n",
    "    s = s.replace(\"..\",\".\")\n",
    "    s = s.replace(\". .\",\".\")\n",
    "    s = s.replace(\"\\n\", \"\")\n",
    "    s = s.strip()    \n",
    "    return s"
   ]
  },
  {
   "cell_type": "code",
   "execution_count": 23,
   "id": "56354758-427f-4af9-94b9-96a25946e9a5",
   "metadata": {
    "gather": {
     "logged": 1675138711316
    },
    "jupyter": {
     "outputs_hidden": false,
     "source_hidden": false
    },
    "nteract": {
     "transient": {
      "deleting": false
     }
    }
   },
   "outputs": [
    {
     "data": {
      "text/plain": [
       "[\"Apple founder Steve Jobs' widow Laurene has told of her admiration for Democratic White House front-runner Hillary Clinton Ms Jobs, 51, called former First Lady Hillary a 'revolutionary' woman, and added that it's not just because she's a woman - but 'the type of woman she is' Speaking to Time 100, Ms Jobs said: 'Hillary Clinton is not familiar She is revolutionary Not radical, but revolutionary: The distinction is crucial She is one of America’s greatest modern creations Laurene Jobs, pictured, widow of Apple's Steve, has strongly backed Hillary Clinton for president  Laurene Jobs said that Hillary Clinton, right, has 'judgment and wisdom' based on her public service  'Her decades in our public life must not blind us to the fact that she represents new realities and possibilities Indeed, those same decades have conferred upon her what newness usually lacks: judgment, and even wisdom\",\n",
       " \"'It matters, of course, that Hillary is a woman But what matters more is what kind of woman she is.' Mrs Clinton announced her intention to seek the Democratic nomination on Sunday - and set upon the campaign trail with a trip to meet 'ordinary' voters in Iowa But she was blasted for her 'staged' visit on Tuesday morning to a coffee shop in LeClaire, Iowa Austin Bird, one of the men pictured sitting at the table with Mrs Clinton, claimed the whole event was orchestrated 'from beginning to end' STAGED: Clinton sat to talk with three young Iowans at a coffee shop on Tuesday – all of whom were driven to the event by her Iowa campaign's political director  NOT SO ORDINARY: Austin Bird is a Democratic Party insider who chauffeured Vice President Joe Biden around Davenport, Iowa in October during a pre-election campaign trip  Bird told Daily Mail Online that campaign staffer Troy Price called and asked him and two other young people to meet him Tuesday morning at a restaurant in Davenport, a nearby city Price then drove them to the coffee house to meet Clinton after vetting them for about a half-hour The three got the lion's share of Mrs Clinton's time and participated in what breathless news reports described as a 'roundtable'– the first of many in her brief Iowa campaign swing\",\n",
       " 'Bird himself is a frequent participant in Iowa Democratic Party events He interned with President Obama\\'s 2012 presidential re-election campaign, and was tapped to chauffeur Vice President Joe Biden in October 2014 when he visited Davenport \\'What happened is, we were just asked to be there by Troy,\\' Bird said Wednesday in a phone interview \\'We were asked to come to a meeting with Troy, the three of us, at the Village Inn.\\' The other two, he confirmed, were University of Iowa College Democrats president Carter Bell and Planned Parenthood of the Heartland employee Sara Sedlacek \\'It was supposed to be a strategy meeting,\\' Bird recalled, \\'to get our thoughts about issues But then all of a sudden he says, \"Hey, we have Secretary Clinton coming in, would you like to go meet her?\"\\' \\'And then we got in a car – Troy\\'s car – and we went up to the coffee house, and we sat at a table and then Hillary just came up and talked with us.\\' Bird said \\'we all were called.\\' \\'I mean, Troy asked us all to do – to go to a meeting with him And we didn\\'t really know what it was about I mean, he did He knew.\\' It\\'s unclear how many Iowans featured in photographs with Clinton that rocketed around the country on Tuesday were planted \\'The mayor of LeClaire was there, and his wife was there,\\' Bird said, recalling the scene at the coffee shop',\n",
       " \"Price was executive director of the Iowa Democratic Party until a month ago Clinton's team tapped him last week to be its political director in Iowa He did not respond to a request for comment Bird is a government and community relations coordinator at Genesis Health System in Davenport, Iowa, according to his LinkedIn profile A coworker at Genesis said Wednesday that Bird is 'basically a lobbyist in training That's what he wants to do.' Bird disagreed, saying his role was 'more public relations.' He's also an outspoken progressive whose Facebook wall shows he ordered a 'Hillary For President' bumper sticker 22 months ago 'Is it 2016 yet?' he wrote in May 2013 Clinton's nascent campaign has carefully coordinated her image as a spontaneous, handshaking populist in her first days as a candidate, posing with Pennsylvanians at a gas station and venturing into an Ohio Chipotle restaurant for lunch When no one recognized the former first lady – she was wearing sunglasses – the campaign leaked information to The New York Times so its reporters could get security-camera footage to prove she had tried to mingle with voters Scripting supposedly off-the-cuff appearances is common in presidential politics but could hurt Clinton especially hard since her gonzo road-trip journey to America's broad midwest is designed to counter her image as cold, calculating and politically venomous\",\n",
       " \"And planting party insiders in place of typical Iowans won't go over well in the Hawkeye State, where pressing the flesh and collecting caucus votes is a quadrennial full-contact sport ASTROTURF: Setting up faux events for news cameras is nothing new in politics, but Iowans take presidential contests seriously and could punish Clinton for the deception  THE FIXER: Bird said Troy Prince (left, pictured with VP Joe Biden), who was executive director of the Iowa Democratic Party until he left last month to help Clinton's statewide political effort, recruited him and others to attend the 'spontaneous' coffee meeting  Clinton's campaign has already taken heat for depicting at least three people in her campaign launch video as 'everyday' Americans who were actually partisans with political connections One was even a former campaign manager for Wendy Davis, the Texas Democrat who mounted a failed bid for Texas governor last year In LeClaire on Tuesday, Bloomberg and other outlets referred to Bird as a 'student' at St Ambrose University, not as a hospital government-affairs staffer with Democratic party street-cred He does study at St Ambrose – part-time But Bird's ties to the party are deep enough that his Facebook wall includes a photo of him standing in front of Joe Biden's limousine in Davenport\",\n",
       " \"'I was driving the Vice President when he was in town in October,' Bird noted in a Facebook comment Biden was not there on official government business, but for a campaign stop in support of Democrat Bruce Braley 'The Vice President will attend a grassroots event for Braley for Iowa with Representative David Loebsack,' according to White House press guidance for his October 27, 2014 schedule.\"]"
      ]
     },
     "execution_count": 23,
     "metadata": {},
     "output_type": "execute_result"
    }
   ],
   "source": [
    "document_chunks = splitter(10, normalize_text(document)) #splitting extracted document into chunks of 10 sentences\n",
    "document_chunks"
   ]
  },
  {
   "cell_type": "code",
   "execution_count": 25,
   "id": "39b3c83f-deca-493b-aa41-12b89f24feff",
   "metadata": {
    "gather": {
     "logged": 1675138711716
    },
    "jupyter": {
     "outputs_hidden": false,
     "source_hidden": false
    },
    "nteract": {
     "transient": {
      "deleting": false
     }
    }
   },
   "outputs": [],
   "source": [
    "embed_df = pd.DataFrame(document_chunks, columns = [\"chunks\"]) #datframe with document chunks\n"
   ]
  },
  {
   "cell_type": "code",
   "execution_count": 26,
   "id": "de635ba5-7cf1-4d4f-8598-73619fc9c7ef",
   "metadata": {
    "gather": {
     "logged": 1675138711984
    },
    "jupyter": {
     "outputs_hidden": false,
     "source_hidden": false
    },
    "nteract": {
     "transient": {
      "deleting": false
     }
    }
   },
   "outputs": [],
   "source": [
    "#Create an embedding vector for each chunk that will capture the semantic meaning and overall topic of that chunk\n",
    "embed_df['davinci_search'] = embed_df[\"chunks\"].apply(lambda x : get_embedding(x, engine = TEXT_SEARCH_DOC_EMBEDDING_ENGINE))"
   ]
  },
  {
   "cell_type": "code",
   "execution_count": 27,
   "id": "0033b178-c09d-4a24-89f7-6c223efc5e71",
   "metadata": {
    "gather": {
     "logged": 1675139761838
    },
    "jupyter": {
     "outputs_hidden": false,
     "source_hidden": false
    },
    "nteract": {
     "transient": {
      "deleting": false
     }
    }
   },
   "outputs": [
    {
     "data": {
      "text/html": [
       "<div>\n",
       "<style scoped>\n",
       "    .dataframe tbody tr th:only-of-type {\n",
       "        vertical-align: middle;\n",
       "    }\n",
       "\n",
       "    .dataframe tbody tr th {\n",
       "        vertical-align: top;\n",
       "    }\n",
       "\n",
       "    .dataframe thead th {\n",
       "        text-align: right;\n",
       "    }\n",
       "</style>\n",
       "<table border=\"1\" class=\"dataframe\">\n",
       "  <thead>\n",
       "    <tr style=\"text-align: right;\">\n",
       "      <th></th>\n",
       "      <th>chunks</th>\n",
       "      <th>davinci_search</th>\n",
       "    </tr>\n",
       "  </thead>\n",
       "  <tbody>\n",
       "    <tr>\n",
       "      <th>0</th>\n",
       "      <td>Apple founder Steve Jobs' widow Laurene has to...</td>\n",
       "      <td>[-0.00974290445446968, 0.0023548523895442486, ...</td>\n",
       "    </tr>\n",
       "    <tr>\n",
       "      <th>1</th>\n",
       "      <td>'It matters, of course, that Hillary is a woma...</td>\n",
       "      <td>[0.012613990344107151, 0.00011710495164152235,...</td>\n",
       "    </tr>\n",
       "    <tr>\n",
       "      <th>2</th>\n",
       "      <td>Bird himself is a frequent participant in Iowa...</td>\n",
       "      <td>[0.0016598827205598354, 0.002051843563094735, ...</td>\n",
       "    </tr>\n",
       "    <tr>\n",
       "      <th>3</th>\n",
       "      <td>Price was executive director of the Iowa Democ...</td>\n",
       "      <td>[0.008494426496326923, -0.005251964554190636, ...</td>\n",
       "    </tr>\n",
       "    <tr>\n",
       "      <th>4</th>\n",
       "      <td>And planting party insiders in place of typica...</td>\n",
       "      <td>[0.014864214695990086, -0.003792150178924203, ...</td>\n",
       "    </tr>\n",
       "    <tr>\n",
       "      <th>5</th>\n",
       "      <td>'I was driving the Vice President when he was ...</td>\n",
       "      <td>[0.004335296340286732, -0.015600714832544327, ...</td>\n",
       "    </tr>\n",
       "  </tbody>\n",
       "</table>\n",
       "</div>"
      ],
      "text/plain": [
       "                                              chunks  \\\n",
       "0  Apple founder Steve Jobs' widow Laurene has to...   \n",
       "1  'It matters, of course, that Hillary is a woma...   \n",
       "2  Bird himself is a frequent participant in Iowa...   \n",
       "3  Price was executive director of the Iowa Democ...   \n",
       "4  And planting party insiders in place of typica...   \n",
       "5  'I was driving the Vice President when he was ...   \n",
       "\n",
       "                                      davinci_search  \n",
       "0  [-0.00974290445446968, 0.0023548523895442486, ...  \n",
       "1  [0.012613990344107151, 0.00011710495164152235,...  \n",
       "2  [0.0016598827205598354, 0.002051843563094735, ...  \n",
       "3  [0.008494426496326923, -0.005251964554190636, ...  \n",
       "4  [0.014864214695990086, -0.003792150178924203, ...  \n",
       "5  [0.004335296340286732, -0.015600714832544327, ...  "
      ]
     },
     "execution_count": 27,
     "metadata": {},
     "output_type": "execute_result"
    }
   ],
   "source": [
    "embed_df #dataframe with document chunks and their embeddings created using Curie embeddings model "
   ]
  },
  {
   "cell_type": "code",
   "execution_count": 28,
   "id": "7cc7adb8-93dd-4dfd-995a-8df893a98d99",
   "metadata": {
    "gather": {
     "logged": 1675138712417
    },
    "jupyter": {
     "outputs_hidden": false,
     "source_hidden": false
    },
    "nteract": {
     "transient": {
      "deleting": false
     }
    }
   },
   "outputs": [],
   "source": [
    "# search through the document for a text segment most similar to the query\n",
    "# display top two most similar chunks based on cosine similarity\n",
    "def search_docs(df, user_query, top_n=3):\n",
    "    embedding = get_embedding(\n",
    "        user_query,\n",
    "        engine=TEXT_SEARCH_QUERY_EMBEDDING_ENGINE\n",
    "    )\n",
    "    df[\"similarities\"] = df.davinci_search.apply(lambda x: cosine_similarity(x, embedding))\n",
    "\n",
    "    res = (\n",
    "        df.sort_values(\"similarities\", ascending=False)\n",
    "        .reset_index(drop=True)\n",
    "        .head(top_n)\n",
    "    )\n",
    "    return res"
   ]
  },
  {
   "cell_type": "code",
   "execution_count": 29,
   "id": "b8511f3a-198f-4e8f-8a5d-cb74456826fa",
   "metadata": {
    "gather": {
     "logged": 1675138712650
    },
    "jupyter": {
     "outputs_hidden": false,
     "source_hidden": false
    },
    "nteract": {
     "transient": {
      "deleting": false
     }
    }
   },
   "outputs": [
    {
     "data": {
      "text/html": [
       "<div>\n",
       "<style scoped>\n",
       "    .dataframe tbody tr th:only-of-type {\n",
       "        vertical-align: middle;\n",
       "    }\n",
       "\n",
       "    .dataframe tbody tr th {\n",
       "        vertical-align: top;\n",
       "    }\n",
       "\n",
       "    .dataframe thead th {\n",
       "        text-align: right;\n",
       "    }\n",
       "</style>\n",
       "<table border=\"1\" class=\"dataframe\">\n",
       "  <thead>\n",
       "    <tr style=\"text-align: right;\">\n",
       "      <th></th>\n",
       "      <th>chunks</th>\n",
       "      <th>davinci_search</th>\n",
       "      <th>similarities</th>\n",
       "    </tr>\n",
       "  </thead>\n",
       "  <tbody>\n",
       "    <tr>\n",
       "      <th>0</th>\n",
       "      <td>Price was executive director of the Iowa Democ...</td>\n",
       "      <td>[0.008494426496326923, -0.005251964554190636, ...</td>\n",
       "      <td>0.293145</td>\n",
       "    </tr>\n",
       "    <tr>\n",
       "      <th>1</th>\n",
       "      <td>'It matters, of course, that Hillary is a woma...</td>\n",
       "      <td>[0.012613990344107151, 0.00011710495164152235,...</td>\n",
       "      <td>0.288064</td>\n",
       "    </tr>\n",
       "  </tbody>\n",
       "</table>\n",
       "</div>"
      ],
      "text/plain": [
       "                                              chunks  \\\n",
       "0  Price was executive director of the Iowa Democ...   \n",
       "1  'It matters, of course, that Hillary is a woma...   \n",
       "\n",
       "                                      davinci_search  similarities  \n",
       "0  [0.008494426496326923, -0.005251964554190636, ...      0.293145  \n",
       "1  [0.012613990344107151, 0.00011710495164152235,...      0.288064  "
      ]
     },
     "execution_count": 29,
     "metadata": {},
     "output_type": "execute_result"
    }
   ],
   "source": [
    "document_specific_query = \"trouble so far in clinton campaign\" \n",
    "res = search_docs(embed_df, document_specific_query, top_n=2) #finding top 2 results based on similarity \n",
    "res"
   ]
  },
  {
   "attachments": {},
   "cell_type": "markdown",
   "id": "eabac33e-5a98-49f0-8fd6-2750bcf79bb1",
   "metadata": {
    "nteract": {
     "transient": {
      "deleting": false
     }
    }
   },
   "source": [
    "## Section 3: Summarizer\n",
    "\n",
    "This section will cover the end-to-end flow of using the GPT-3 models for summarization tasks. \n",
    "The model used by the Azure OpenAI service is a generative completion call which uses natural language instructions to identify the task being asked and skill required – aka Prompt Engineering. Using this approach, the first part of the prompt includes natural language instructions and/or examples of the specific task desired. The model then completes the task by predicting the most probable next text. This technique is known as \"in-context\" learning. \n",
    "\n",
    "There are three main approaches for in-context learning: Zero-shot, Few-shot and Fine tuning. These approaches vary based on the amount of task-specific data that is given to the model: \n",
    "\n",
    "**Zero-shot**: In this case, no examples are provided to the model and only the task request is provided. \n",
    "\n",
    "**Few-shot**: In this case, a user includes several examples in the call prompt that demonstrate the expected answer format and content. \n",
    "\n",
    "**Fine-Tuning**: Fine Tuning lets you tailor models to your personal datasets. This customization step will let you get more out of the service by providing: \n",
    "-\tWith lots of data (at least 500 and above) traditional optimization techniques are used with Back Propagation to re-adjust the weights of the model – this enables higher quality results than mere zero-shot or few-shot. \n",
    "-\tA customized model improves the few-shot learning approach by training the model weights on your specific prompts and structure. This lets you achieve better results on a wider number of tasks without needing to provide examples in the prompt. The result is less text sent and fewer tokens \n"
   ]
  },
  {
   "cell_type": "code",
   "execution_count": 34,
   "id": "1c8e47a5",
   "metadata": {},
   "outputs": [
    {
     "name": "stdout",
     "output_type": "stream",
     "text": [
      "Summarize the content about the Clinton campaign given the text provided.\n",
      "\n",
      "Text:\n",
      "Price was executive director of the Iowa Democratic Party until a month ago Clinton's team tapped him last week to be its political director in Iowa He did not respond to a request for comment Bird is a government and community relations coordinator at Genesis Health System in Davenport, Iowa, according to his LinkedIn profile A coworker at Genesis said Wednesday that Bird is 'basically a lobbyist in training That's what he wants to do.' Bird disagreed, saying his role was 'more public relations.' He's also an outspoken progressive whose Facebook wall shows he ordered a 'Hillary For President' bumper sticker 22 months ago 'Is it 2016 yet?' he wrote in May 2013 Clinton's nascent campaign has carefully coordinated her image as a spontaneous, handshaking populist in her first days as a candidate, posing with Pennsylvanians at a gas station and venturing into an Ohio Chipotle restaurant for lunch When no one recognized the former first lady – she was wearing sunglasses – the campaign leaked information to The New York Times so its reporters could get security-camera footage to prove she had tried to mingle with voters Scripting supposedly off-the-cuff appearances is common in presidential politics but could hurt Clinton especially hard since her gonzo road-trip journey to America's broad midwest is designed to counter her image as cold, calculating and politically venomous\n",
      "\n",
      "Text:\n",
      "'It matters, of course, that Hillary is a woman But what matters more is what kind of woman she is.' Mrs Clinton announced her intention to seek the Democratic nomination on Sunday - and set upon the campaign trail with a trip to meet 'ordinary' voters in Iowa But she was blasted for her 'staged' visit on Tuesday morning to a coffee shop in LeClaire, Iowa Austin Bird, one of the men pictured sitting at the table with Mrs Clinton, claimed the whole event was orchestrated 'from beginning to end' STAGED: Clinton sat to talk with three young Iowans at a coffee shop on Tuesday – all of whom were driven to the event by her Iowa campaign's political director NOT SO ORDINARY: Austin Bird is a Democratic Party insider who chauffeured Vice President Joe Biden around Davenport, Iowa in October during a pre-election campaign trip Bird told Daily Mail Online that campaign staffer Troy Price called and asked him and two other young people to meet him Tuesday morning at a restaurant in Davenport, a nearby city Price then drove them to the coffee house to meet Clinton after vetting them for about a half-hour The three got the lion's share of Mrs Clinton's time and participated in what breathless news reports described as a 'roundtable'– the first of many in her brief Iowa campaign swing\n",
      "\n",
      "Summary:\n",
      "\n"
     ]
    }
   ],
   "source": [
    "'''Designing a prompt that will show and tell GPT-3 how to proceed. \n",
    "+ Providing an instruction to summarize the text about the general topic (prefix)\n",
    "+ Providing quality data for the chunks to summarize and specifically mentioning they are the text provided (context + context primer)\n",
    "+ Providing a space for GPT-3 to fill in the summary to follow the format (suffix)\n",
    "'''\n",
    "\n",
    "# result_1 corresponding to the top chunk from Section 2. result_2 corresponding to the second to top chunk from section 2. \n",
    "# change index for desired chunk\n",
    "result_1 = res.chunks[0]\n",
    "result_2 = res.chunks[1]\n",
    "prompt_i = 'Summarize the content about the Clinton campaign given the text provided.\\n\\nText:\\n'+\" \".join([normalize_text(result_1)])+ '\\n\\nText:\\n'+ \" \".join([normalize_text(result_2)])+'\\n\\nSummary:\\n'\n",
    "print(prompt_i)"
   ]
  },
  {
   "cell_type": "code",
   "execution_count": 30,
   "id": "6ec85c16-daec-4eb3-aa33-bed7c20774b6",
   "metadata": {
    "jupyter": {
     "outputs_hidden": false,
     "source_hidden": false
    },
    "nteract": {
     "transient": {
      "deleting": false
     }
    }
   },
   "outputs": [
    {
     "name": "stdout",
     "output_type": "stream",
     "text": [
      "Hillary Clinton's campaign has been carefully coordinating her image as a spontaneous, handshaking populist in her first days as a candidate. During her trip to Iowa, she was criticized for staging an event at a coffee shop with three young Iowans who were driven there by the Iowa campaign's political director. The three got the lion's share of Mrs Clinton's time and participated in what was described as a 'roundtable'. This scripting of supposedly off-the-cuff appearances is common in presidential politics but could hurt Clinton especially hard since her road-trip journey to America's broad midwest is designed to counter her image as cold, calculating and politically venomous.\n"
     ]
    }
   ],
   "source": [
    "\n",
    "# Using a low temperature to limit the creativity in the response. \n",
    "response = openai.Completion.create(\n",
    "        engine= TEXT_DAVINCI,\n",
    "        prompt = prompt_i,\n",
    "        temperature = 0.0,\n",
    "        max_tokens = 500,\n",
    "        top_p = 1.0,\n",
    "        frequency_penalty=0.5,\n",
    "        presence_penalty = 0.5,\n",
    "        best_of = 1\n",
    "    )\n",
    "\n",
    "print(response.choices[0].text)"
   ]
  },
  {
   "cell_type": "code",
   "execution_count": 31,
   "id": "1449c949-1a01-4f20-bebb-e7674ac6de43",
   "metadata": {
    "gather": {
     "logged": 1675138714150
    },
    "jupyter": {
     "outputs_hidden": false,
     "source_hidden": false
    },
    "nteract": {
     "transient": {
      "deleting": false
     }
    }
   },
   "outputs": [
    {
     "name": "stdout",
     "output_type": "stream",
     "text": [
      "Hillary Clinton's campaign has been carefully coordinating her image as a spontaneous, handshaking populist in her first days as a candidate. During her trip to Iowa, she was criticized for staging an event at a coffee shop with three young people who were driven there by the Iowa campaign's political director. The three got the lion's share of Mrs Clinton's time and participated in what was described as a 'roundtable'. Her team is attempting to counter her image as cold, calculating and politically venomous.\n"
     ]
    }
   ],
   "source": [
    "#testing some parameters with a differnt temperature\n",
    "response = openai.Completion.create(\n",
    "        engine= TEXT_DAVINCI,\n",
    "        prompt = prompt_i,\n",
    "        temperature = 0.2,\n",
    "        max_tokens = 500,\n",
    "        top_p = 1.0,\n",
    "        frequency_penalty=0.5,\n",
    "        presence_penalty = 0.5,\n",
    "        best_of = 1\n",
    "    )\n",
    "\n",
    "print(response.choices[0].text)"
   ]
  },
  {
   "cell_type": "code",
   "execution_count": 32,
   "id": "47147cfe-ad88-4c97-b6eb-0a9f82f0bd91",
   "metadata": {
    "gather": {
     "logged": 1675138715196
    },
    "jupyter": {
     "outputs_hidden": false,
     "source_hidden": false
    },
    "nteract": {
     "transient": {
      "deleting": false
     }
    }
   },
   "outputs": [
    {
     "name": "stdout",
     "output_type": "stream",
     "text": [
      "Hillary Clinton began her campaign for the Democratic nomination with a visit to Iowa, where she was met with criticism for her 'staged' appearance at a coffee shop in LeClaire. Austin Bird, one of the people pictured sitting with Clinton, revealed that the event had been orchestrated from beginning to end by her Iowa campaign's political director, Troy Price. Bird and two other young people were driven to the coffee house by Price, who vetted them for around half an hour before they met Clinton. The three participants received most of Clinton's time and took part in what was described as a 'roundtable'.\n"
     ]
    }
   ],
   "source": [
    "#testing some parameters \n",
    "response = openai.Completion.create(\n",
    "        engine= TEXT_DAVINCI,\n",
    "        prompt = prompt_i,\n",
    "        temperature = 0.7,\n",
    "        max_tokens = 500,\n",
    "        top_p = 1.0,\n",
    "        frequency_penalty=0.5,\n",
    "        presence_penalty = 0.5,\n",
    "        best_of = 1\n",
    "    )\n",
    "\n",
    "print(response.choices[0].text)"
   ]
  },
  {
   "cell_type": "code",
   "execution_count": null,
   "id": "609f8afe",
   "metadata": {},
   "outputs": [],
   "source": []
  }
 ],
 "metadata": {
  "kernel_info": {
   "name": "python3"
  },
  "kernelspec": {
   "display_name": "Python 3 (ipykernel)",
   "language": "python",
   "name": "python3"
  },
  "language_info": {
   "codemirror_mode": {
    "name": "ipython",
    "version": 3
   },
   "file_extension": ".py",
   "mimetype": "text/x-python",
   "name": "python",
   "nbconvert_exporter": "python",
   "pygments_lexer": "ipython3",
   "version": "3.9.16"
  },
  "microsoft": {
   "host": {
    "AzureML": {
     "notebookHasBeenCompleted": true
    }
   }
  },
  "nteract": {
   "version": "nteract-front-end@1.0.0"
  },
  "vscode": {
   "interpreter": {
    "hash": "2139c70ac98f3202d028164a545621647e07f47fd6f5d8ac55cf952bf7c15ed1"
   }
  }
 },
 "nbformat": 4,
 "nbformat_minor": 5
}
